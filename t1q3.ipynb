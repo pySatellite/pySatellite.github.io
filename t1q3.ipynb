{
  "nbformat": 4,
  "nbformat_minor": 0,
  "metadata": {
    "colab": {
      "provenance": [],
      "authorship_tag": "ABX9TyNcL0gxME0FHqeSfMFLM/kz"
    },
    "kernelspec": {
      "name": "python3",
      "display_name": "Python 3"
    },
    "language_info": {
      "name": "python"
    }
  },
  "cells": [
    {
      "cell_type": "markdown",
      "source": [
        "# hi"
      ],
      "metadata": {
        "id": "Lq800YSg_J0F"
      }
    },
    {
      "cell_type": "code",
      "source": [],
      "metadata": {
        "id": "bpRGy79i_RU3"
      },
      "execution_count": null,
      "outputs": []
    }
  ]
}